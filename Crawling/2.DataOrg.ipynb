{
 "cells": [
  {
   "cell_type": "code",
   "execution_count": 37,
   "metadata": {},
   "outputs": [],
   "source": [
    "import os"
   ]
  },
  {
   "cell_type": "code",
   "execution_count": 38,
   "metadata": {},
   "outputs": [],
   "source": [
    "IMAGE_FILE_DIR = \"../images\""
   ]
  },
  {
   "cell_type": "code",
   "execution_count": 39,
   "metadata": {},
   "outputs": [],
   "source": [
    "def get_file_list(path:str) -> list:\n",
    "    return list(os.listdir(path))"
   ]
  },
  {
   "cell_type": "code",
   "execution_count": 48,
   "metadata": {},
   "outputs": [],
   "source": [
    "image_folders:list = get_file_list(IMAGE_FILE_DIR)\n",
    "image_files:dict = {}\n",
    "for im_fol in image_folders:\n",
    "    image_files[im_fol] = get_file_list(f\"{IMAGE_FILE_DIR}/{im_fol}\")"
   ]
  },
  {
   "cell_type": "code",
   "execution_count": 50,
   "metadata": {},
   "outputs": [],
   "source": [
    "if not os.path.isdir(f\"{IMAGE_FILE_DIR}/new\"):\n",
    "        os.mkdir(f\"{IMAGE_FILE_DIR}/new\")\n",
    "for imgf in image_folders:\n",
    "    if not os.path.isdir(f\"{IMAGE_FILE_DIR}/new/{imgf}\"):\n",
    "        os.mkdir(f\"{IMAGE_FILE_DIR}/new/{imgf}\")\n",
    "    for i in range(0, len(image_files[imgf])):\n",
    "        try:\n",
    "            os.replace(f\"{IMAGE_FILE_DIR}/{imgf}/{image_files[imgf][i]}\", f\"{IMAGE_FILE_DIR}/new/{imgf}/{i}.jpg\")\n",
    "        except:\n",
    "            continue"
   ]
  }
 ],
 "metadata": {
  "kernelspec": {
   "display_name": "Python 3.9.12 ('py39_jggmcmis_1')",
   "language": "python",
   "name": "python3"
  },
  "language_info": {
   "codemirror_mode": {
    "name": "ipython",
    "version": 3
   },
   "file_extension": ".py",
   "mimetype": "text/x-python",
   "name": "python",
   "nbconvert_exporter": "python",
   "pygments_lexer": "ipython3",
   "version": "3.9.12"
  },
  "orig_nbformat": 4,
  "vscode": {
   "interpreter": {
    "hash": "ffb01c95058d96b9cc1fbf203562ea1ccdbeb7c0ae13b94135e37e874a9d25df"
   }
  }
 },
 "nbformat": 4,
 "nbformat_minor": 2
}
